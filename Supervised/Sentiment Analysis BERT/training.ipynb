{
 "cells": [
  {
   "cell_type": "code",
   "execution_count": 1,
   "metadata": {
    "collapsed": true
   },
   "outputs": [],
   "source": [
    "import transformers\n",
    "import torch\n",
    "import copy\n",
    "import pandas as pd\n",
    "import numpy as np\n",
    "import seaborn as sns\n",
    "from pylab import rcParams\n",
    "from matplotlib import rc\n",
    "from sklearn.model_selection import train_test_split\n",
    "from tqdm import tqdm\n",
    "from torch import nn,optim\n",
    "from torch.utils import data\n"
   ]
  },
  {
   "cell_type": "code",
   "execution_count": 3,
   "outputs": [
    {
     "data": {
      "text/plain": "                                               text  label\n0                          pengen pasang dm ya guys      1\n1          min kalo pasang gak ya takutnya berbulan      0\n2  tolong rek bayarku larang ho bendino mbrebet cok      0\n3                                restart otaknya kk      0\n4                          kalo putus nyambung wkwk      0",
      "text/html": "<div>\n<style scoped>\n    .dataframe tbody tr th:only-of-type {\n        vertical-align: middle;\n    }\n\n    .dataframe tbody tr th {\n        vertical-align: top;\n    }\n\n    .dataframe thead th {\n        text-align: right;\n    }\n</style>\n<table border=\"1\" class=\"dataframe\">\n  <thead>\n    <tr style=\"text-align: right;\">\n      <th></th>\n      <th>text</th>\n      <th>label</th>\n    </tr>\n  </thead>\n  <tbody>\n    <tr>\n      <th>0</th>\n      <td>pengen pasang dm ya guys</td>\n      <td>1</td>\n    </tr>\n    <tr>\n      <th>1</th>\n      <td>min kalo pasang gak ya takutnya berbulan</td>\n      <td>0</td>\n    </tr>\n    <tr>\n      <th>2</th>\n      <td>tolong rek bayarku larang ho bendino mbrebet cok</td>\n      <td>0</td>\n    </tr>\n    <tr>\n      <th>3</th>\n      <td>restart otaknya kk</td>\n      <td>0</td>\n    </tr>\n    <tr>\n      <th>4</th>\n      <td>kalo putus nyambung wkwk</td>\n      <td>0</td>\n    </tr>\n  </tbody>\n</table>\n</div>"
     },
     "execution_count": 3,
     "metadata": {},
     "output_type": "execute_result"
    }
   ],
   "source": [
    "df = pd.read_excel(\"data_training.xlsx\")\n",
    "df.head()"
   ],
   "metadata": {
    "collapsed": false,
    "pycharm": {
     "name": "#%%\n"
    }
   }
  },
  {
   "cell_type": "code",
   "execution_count": 4,
   "outputs": [
    {
     "data": {
      "text/plain": "<bound method DataFrame.info of                                                   text  label\n0                             pengen pasang dm ya guys      1\n1             min kalo pasang gak ya takutnya berbulan      0\n2     tolong rek bayarku larang ho bendino mbrebet cok      0\n3                                   restart otaknya kk      0\n4                             kalo putus nyambung wkwk      0\n...                                                ...    ...\n2445                           mudah mudahan gak lelet      2\n2446                         min belum masuk paket nya      2\n2447                                  min tolongin aku      2\n2448                       min cara connect nya gimana      2\n2449  kok beli paket gak masuk ya ada yang tau caranya      2\n\n[2450 rows x 2 columns]>"
     },
     "execution_count": 4,
     "metadata": {},
     "output_type": "execute_result"
    }
   ],
   "source": [
    "df.info\n"
   ],
   "metadata": {
    "collapsed": false,
    "pycharm": {
     "name": "#%%\n"
    }
   }
  }
 ],
 "metadata": {
  "kernelspec": {
   "display_name": "Python 3",
   "language": "python",
   "name": "python3"
  },
  "language_info": {
   "codemirror_mode": {
    "name": "ipython",
    "version": 2
   },
   "file_extension": ".py",
   "mimetype": "text/x-python",
   "name": "python",
   "nbconvert_exporter": "python",
   "pygments_lexer": "ipython2",
   "version": "2.7.6"
  }
 },
 "nbformat": 4,
 "nbformat_minor": 0
}