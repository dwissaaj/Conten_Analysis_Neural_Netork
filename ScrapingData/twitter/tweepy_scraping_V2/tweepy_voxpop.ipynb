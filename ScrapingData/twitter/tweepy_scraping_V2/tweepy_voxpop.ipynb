{
 "cells": [
  {
   "cell_type": "code",
   "execution_count": 1,
   "metadata": {
    "collapsed": true
   },
   "outputs": [],
   "source": [
    "import tweepy\n",
    "import config\n",
    "import pandas as pd"
   ]
  },
  {
   "cell_type": "code",
   "execution_count": 2,
   "outputs": [],
   "source": [
    "client = tweepy.Client(bearer_token=config.BEARER_TOKEN)"
   ],
   "metadata": {
    "collapsed": false
   }
  },
  {
   "cell_type": "code",
   "execution_count": 3,
   "outputs": [],
   "source": [
    "textsrt = []\n",
    "textgum = []\n",
    "date = []\n",
    "geo = []\n",
    "organic = []\n",
    "for tweet in tweepy.Paginator(client.search_recent_tweets,query=\"rizky Billar OR lesti kejora lang:ID\",max_results=100,\n",
    "                              start_time = \"2022-09-29T00:00:00Z\",\n",
    "                              end_time=\"2022-09-29T12:00:00Z\",\n",
    "                              tweet_fields=['created_at','geo','lang'],\n",
    "                              user_fields=['username'],\n",
    "                              place_fields=['country'],\n",
    "\n",
    "                              ).flatten(limit=20000):\n",
    "   textsrt.append(tweet.text)\n",
    "   date.append(tweet.created_at)"
   ],
   "metadata": {
    "collapsed": false
   }
  },
  {
   "cell_type": "code",
   "execution_count": 4,
   "outputs": [],
   "source": [
    "df = pd.DataFrame(textsrt)"
   ],
   "metadata": {
    "collapsed": false
   }
  },
  {
   "cell_type": "code",
   "execution_count": 5,
   "outputs": [
    {
     "data": {
      "text/plain": "                                                       0\n0      TERUNGKAP !!!  !!!!\\n\\nInilah Alasan Lesti Kej...\n1      RT @bnjourchocolat: For my malaysian friends k...\n2      RT @AREAJULID: Dis! Ternyata apa yang kita sak...\n3      Ilmu Kehidupan nh\\n\\n( Rizky Billar Lesti  Les...\n4      RT @detikcom: Pernikahan Rizky Billar dan Lest...\n...                                                  ...\n13429  RT @SCTV: Yuk, dukung Rizky Billar untuk memba...\n13430  RT @SCTV: Yuk, dukung Rizky Billar untuk memba...\n13431  [Kabar] YESS UNGGUL ! Data Dari Fansbase Soal ...\n13432                                 @SCTV Rizky billar\n13433  RT @SCTV: Yuk, dukung Rizky Billar untuk memba...\n\n[13434 rows x 1 columns]",
      "text/html": "<div>\n<style scoped>\n    .dataframe tbody tr th:only-of-type {\n        vertical-align: middle;\n    }\n\n    .dataframe tbody tr th {\n        vertical-align: top;\n    }\n\n    .dataframe thead th {\n        text-align: right;\n    }\n</style>\n<table border=\"1\" class=\"dataframe\">\n  <thead>\n    <tr style=\"text-align: right;\">\n      <th></th>\n      <th>0</th>\n    </tr>\n  </thead>\n  <tbody>\n    <tr>\n      <th>0</th>\n      <td>TERUNGKAP !!!  !!!!\\n\\nInilah Alasan Lesti Kej...</td>\n    </tr>\n    <tr>\n      <th>1</th>\n      <td>RT @bnjourchocolat: For my malaysian friends k...</td>\n    </tr>\n    <tr>\n      <th>2</th>\n      <td>RT @AREAJULID: Dis! Ternyata apa yang kita sak...</td>\n    </tr>\n    <tr>\n      <th>3</th>\n      <td>Ilmu Kehidupan nh\\n\\n( Rizky Billar Lesti  Les...</td>\n    </tr>\n    <tr>\n      <th>4</th>\n      <td>RT @detikcom: Pernikahan Rizky Billar dan Lest...</td>\n    </tr>\n    <tr>\n      <th>...</th>\n      <td>...</td>\n    </tr>\n    <tr>\n      <th>13429</th>\n      <td>RT @SCTV: Yuk, dukung Rizky Billar untuk memba...</td>\n    </tr>\n    <tr>\n      <th>13430</th>\n      <td>RT @SCTV: Yuk, dukung Rizky Billar untuk memba...</td>\n    </tr>\n    <tr>\n      <th>13431</th>\n      <td>[Kabar] YESS UNGGUL ! Data Dari Fansbase Soal ...</td>\n    </tr>\n    <tr>\n      <th>13432</th>\n      <td>@SCTV Rizky billar</td>\n    </tr>\n    <tr>\n      <th>13433</th>\n      <td>RT @SCTV: Yuk, dukung Rizky Billar untuk memba...</td>\n    </tr>\n  </tbody>\n</table>\n<p>13434 rows × 1 columns</p>\n</div>"
     },
     "execution_count": 5,
     "metadata": {},
     "output_type": "execute_result"
    }
   ],
   "source": [
    "df"
   ],
   "metadata": {
    "collapsed": false
   }
  },
  {
   "cell_type": "code",
   "execution_count": 6,
   "outputs": [],
   "source": [
    "df.to_excel(\"real asli 29 00-12 .xlsx\")"
   ],
   "metadata": {
    "collapsed": false
   }
  },
  {
   "cell_type": "code",
   "execution_count": null,
   "outputs": [],
   "source": [
    "\"\"\"\n",
    "\n",
    "textsrt = []\n",
    "textgum = []\n",
    "date = []\n",
    "geo = []\n",
    "organic = []\n",
    "for tweet in tweepy.Paginator(client.search_recent_tweets,query=\"rizky Billar OR lesti kejora lang:ID\",max_results=100,\n",
    "                              start_time = \"2022-09-30T00:00:00Z\",\n",
    "                              end_time=\"2022-09-30T12:00:00Z\",\n",
    "                              tweet_fields=['created_at','geo','lang','organic_metrics','public_metrics'],\n",
    "                              user_fields=['username'],\n",
    "                              place_fields=['country','full_name'],\n",
    "                              expansions=['geo.place_id']\n",
    "                              ).flatten(limit=10):\n",
    "   textsrt.append(tweet.text)\n",
    "   date.append(tweet.created_at)\n",
    "   geo.append(tweet.geo)\n",
    "   organic.append(tweet.organic_metrics)\"\"\""
   ],
   "metadata": {
    "collapsed": false
   }
  }
 ],
 "metadata": {
  "kernelspec": {
   "display_name": "Python 3",
   "language": "python",
   "name": "python3"
  },
  "language_info": {
   "codemirror_mode": {
    "name": "ipython",
    "version": 2
   },
   "file_extension": ".py",
   "mimetype": "text/x-python",
   "name": "python",
   "nbconvert_exporter": "python",
   "pygments_lexer": "ipython2",
   "version": "2.7.6"
  }
 },
 "nbformat": 4,
 "nbformat_minor": 0
}
