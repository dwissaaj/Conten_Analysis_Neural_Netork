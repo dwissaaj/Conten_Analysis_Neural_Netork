{
 "cells": [
  {
   "cell_type": "code",
   "execution_count": 1,
   "metadata": {
    "collapsed": true
   },
   "outputs": [],
   "source": [
    "import tweepy\n",
    "import config\n",
    "import pandas as pd"
   ]
  },
  {
   "cell_type": "code",
   "execution_count": 2,
   "outputs": [],
   "source": [
    "client = tweepy.Client(bearer_token=config.BEARER_TOKEN)"
   ],
   "metadata": {
    "collapsed": false
   }
  },
  {
   "cell_type": "code",
   "execution_count": 3,
   "outputs": [],
   "source": [
    "textsrt = []\n",
    "textgum = []\n",
    "date = []\n",
    "geo = []\n",
    "organic = []\n",
    "for tweet in tweepy.Paginator(client.search_recent_tweets,query=\"#prayforkanjuruhan\",max_results=100,\n",
    "                              start_time = \"2022-10-05T00:00:00Z\",\n",
    "                              end_time=\"2022-10-05T12:30:00Z\",\n",
    "                              tweet_fields=['created_at','geo','lang'],\n",
    "                              user_fields=['username'],\n",
    "                              place_fields=['country'],\n",
    "\n",
    "                              ).flatten(limit=30000):\n",
    "   textsrt.append(tweet.text)\n",
    "   date.append(tweet.created_at)"
   ],
   "metadata": {
    "collapsed": false
   }
  },
  {
   "cell_type": "code",
   "execution_count": 4,
   "outputs": [],
   "source": [
    "df = pd.DataFrame(textsrt,columns=[\"tweet\"])"
   ],
   "metadata": {
    "collapsed": false
   }
  },
  {
   "cell_type": "code",
   "execution_count": 5,
   "outputs": [],
   "source": [
    "dates = pd.DataFrame(date,columns=[\"dates\"])"
   ],
   "metadata": {
    "collapsed": false
   }
  },
  {
   "cell_type": "code",
   "execution_count": 6,
   "outputs": [],
   "source": [
    "data = pd.concat([df,dates],axis=1)"
   ],
   "metadata": {
    "collapsed": false
   }
  },
  {
   "cell_type": "code",
   "execution_count": 7,
   "outputs": [
    {
     "data": {
      "text/plain": "                                                   tweet  \\\n0      PRESIDEN SEGERA COPOT KETUM PSSI.\\n#PrayForKan...   \n1      RT @GOAL_ID: Fans Bayern Munich punya pesan kh...   \n2      https://t.co/LnvoTvnzFV\\n\\n#Whysalahpolisi?\\n#...   \n3      RT @DikySoemarno: Kebenaran, kebesaran hati, d...   \n4      #Whysalahpolisi?\\n#PrayForKanjuruhan\\n#Tragedi...   \n...                                                  ...   \n11165  RT @YudhAIkkyuU: kengerian di pintu 13\\n1.3.1....   \n11166  RT @vip_siskaeee: #PrayForKanjuruhan #Arema ht...   \n11167  RT @BTS_AHC_IDN: Army, #BTS_AHC_IDN adl layana...   \n11168  RT @YudhAIkkyuU: kengerian di pintu 13\\n1.3.1....   \n11169  RT @christiyantosw: Coba perhatikan pukulan to...   \n\n                          dates  \n0     2022-10-05 12:29:54+00:00  \n1     2022-10-05 12:29:54+00:00  \n2     2022-10-05 12:29:41+00:00  \n3     2022-10-05 12:29:33+00:00  \n4     2022-10-05 12:29:29+00:00  \n...                         ...  \n11165 2022-10-05 00:00:23+00:00  \n11166 2022-10-05 00:00:22+00:00  \n11167 2022-10-05 00:00:05+00:00  \n11168 2022-10-05 00:00:04+00:00  \n11169 2022-10-05 00:00:00+00:00  \n\n[11170 rows x 2 columns]",
      "text/html": "<div>\n<style scoped>\n    .dataframe tbody tr th:only-of-type {\n        vertical-align: middle;\n    }\n\n    .dataframe tbody tr th {\n        vertical-align: top;\n    }\n\n    .dataframe thead th {\n        text-align: right;\n    }\n</style>\n<table border=\"1\" class=\"dataframe\">\n  <thead>\n    <tr style=\"text-align: right;\">\n      <th></th>\n      <th>tweet</th>\n      <th>dates</th>\n    </tr>\n  </thead>\n  <tbody>\n    <tr>\n      <th>0</th>\n      <td>PRESIDEN SEGERA COPOT KETUM PSSI.\\n#PrayForKan...</td>\n      <td>2022-10-05 12:29:54+00:00</td>\n    </tr>\n    <tr>\n      <th>1</th>\n      <td>RT @GOAL_ID: Fans Bayern Munich punya pesan kh...</td>\n      <td>2022-10-05 12:29:54+00:00</td>\n    </tr>\n    <tr>\n      <th>2</th>\n      <td>https://t.co/LnvoTvnzFV\\n\\n#Whysalahpolisi?\\n#...</td>\n      <td>2022-10-05 12:29:41+00:00</td>\n    </tr>\n    <tr>\n      <th>3</th>\n      <td>RT @DikySoemarno: Kebenaran, kebesaran hati, d...</td>\n      <td>2022-10-05 12:29:33+00:00</td>\n    </tr>\n    <tr>\n      <th>4</th>\n      <td>#Whysalahpolisi?\\n#PrayForKanjuruhan\\n#Tragedi...</td>\n      <td>2022-10-05 12:29:29+00:00</td>\n    </tr>\n    <tr>\n      <th>...</th>\n      <td>...</td>\n      <td>...</td>\n    </tr>\n    <tr>\n      <th>11165</th>\n      <td>RT @YudhAIkkyuU: kengerian di pintu 13\\n1.3.1....</td>\n      <td>2022-10-05 00:00:23+00:00</td>\n    </tr>\n    <tr>\n      <th>11166</th>\n      <td>RT @vip_siskaeee: #PrayForKanjuruhan #Arema ht...</td>\n      <td>2022-10-05 00:00:22+00:00</td>\n    </tr>\n    <tr>\n      <th>11167</th>\n      <td>RT @BTS_AHC_IDN: Army, #BTS_AHC_IDN adl layana...</td>\n      <td>2022-10-05 00:00:05+00:00</td>\n    </tr>\n    <tr>\n      <th>11168</th>\n      <td>RT @YudhAIkkyuU: kengerian di pintu 13\\n1.3.1....</td>\n      <td>2022-10-05 00:00:04+00:00</td>\n    </tr>\n    <tr>\n      <th>11169</th>\n      <td>RT @christiyantosw: Coba perhatikan pukulan to...</td>\n      <td>2022-10-05 00:00:00+00:00</td>\n    </tr>\n  </tbody>\n</table>\n<p>11170 rows × 2 columns</p>\n</div>"
     },
     "execution_count": 7,
     "metadata": {},
     "output_type": "execute_result"
    }
   ],
   "source": [
    "data"
   ],
   "metadata": {
    "collapsed": false
   }
  },
  {
   "cell_type": "code",
   "execution_count": 8,
   "outputs": [],
   "source": [
    "data.to_csv(\"kj 05 PART 1.csv\",index=False)"
   ],
   "metadata": {
    "collapsed": false
   }
  },
  {
   "cell_type": "code",
   "execution_count": 36,
   "outputs": [],
   "source": [
    "test = pd.read_csv(\"kj 01.csv\")"
   ],
   "metadata": {
    "collapsed": false
   }
  },
  {
   "cell_type": "code",
   "execution_count": 37,
   "outputs": [
    {
     "data": {
      "text/plain": "                                                  tweet  \\\n0     RT @kemalpalevi: “Jika sepakbola lebih mahal k...   \n1     Entenge\\n@iriawan84 harusnya mengundurkan diri...   \n2                   @FiersaBesari #PrayForKanjuruhan 💔💔   \n3                #KanjuruhanDisaster #PrayForKanjuruhan   \n4     Yth Bapak @ListyoSigitP @DivHumas_Polri  Dalam...   \n...                                                 ...   \n1329                                 #prayforKanjuruhan   \n1330  Sungguh amat disayangkan ketika prestasi timna...   \n1331  Tidak ada kemenangan yang sebanding dengan nya...   \n1332  Kejadian di Malang adalah serangkaian rentetan...   \n1333  @ainurohman @pamungkas_gus Wis angel llub dg b...   \n\n                          dates  \n0     2022-10-01 22:59:57+00:00  \n1     2022-10-01 22:59:55+00:00  \n2     2022-10-01 22:59:55+00:00  \n3     2022-10-01 22:59:54+00:00  \n4     2022-10-01 22:59:49+00:00  \n...                         ...  \n1329  2022-10-01 18:01:49+00:00  \n1330  2022-10-01 18:00:10+00:00  \n1331  2022-10-01 17:57:45+00:00  \n1332  2022-10-01 17:47:07+00:00  \n1333  2022-10-01 17:33:18+00:00  \n\n[1334 rows x 2 columns]",
      "text/html": "<div>\n<style scoped>\n    .dataframe tbody tr th:only-of-type {\n        vertical-align: middle;\n    }\n\n    .dataframe tbody tr th {\n        vertical-align: top;\n    }\n\n    .dataframe thead th {\n        text-align: right;\n    }\n</style>\n<table border=\"1\" class=\"dataframe\">\n  <thead>\n    <tr style=\"text-align: right;\">\n      <th></th>\n      <th>tweet</th>\n      <th>dates</th>\n    </tr>\n  </thead>\n  <tbody>\n    <tr>\n      <th>0</th>\n      <td>RT @kemalpalevi: “Jika sepakbola lebih mahal k...</td>\n      <td>2022-10-01 22:59:57+00:00</td>\n    </tr>\n    <tr>\n      <th>1</th>\n      <td>Entenge\\n@iriawan84 harusnya mengundurkan diri...</td>\n      <td>2022-10-01 22:59:55+00:00</td>\n    </tr>\n    <tr>\n      <th>2</th>\n      <td>@FiersaBesari #PrayForKanjuruhan 💔💔</td>\n      <td>2022-10-01 22:59:55+00:00</td>\n    </tr>\n    <tr>\n      <th>3</th>\n      <td>#KanjuruhanDisaster #PrayForKanjuruhan</td>\n      <td>2022-10-01 22:59:54+00:00</td>\n    </tr>\n    <tr>\n      <th>4</th>\n      <td>Yth Bapak @ListyoSigitP @DivHumas_Polri  Dalam...</td>\n      <td>2022-10-01 22:59:49+00:00</td>\n    </tr>\n    <tr>\n      <th>...</th>\n      <td>...</td>\n      <td>...</td>\n    </tr>\n    <tr>\n      <th>1329</th>\n      <td>#prayforKanjuruhan</td>\n      <td>2022-10-01 18:01:49+00:00</td>\n    </tr>\n    <tr>\n      <th>1330</th>\n      <td>Sungguh amat disayangkan ketika prestasi timna...</td>\n      <td>2022-10-01 18:00:10+00:00</td>\n    </tr>\n    <tr>\n      <th>1331</th>\n      <td>Tidak ada kemenangan yang sebanding dengan nya...</td>\n      <td>2022-10-01 17:57:45+00:00</td>\n    </tr>\n    <tr>\n      <th>1332</th>\n      <td>Kejadian di Malang adalah serangkaian rentetan...</td>\n      <td>2022-10-01 17:47:07+00:00</td>\n    </tr>\n    <tr>\n      <th>1333</th>\n      <td>@ainurohman @pamungkas_gus Wis angel llub dg b...</td>\n      <td>2022-10-01 17:33:18+00:00</td>\n    </tr>\n  </tbody>\n</table>\n<p>1334 rows × 2 columns</p>\n</div>"
     },
     "execution_count": 37,
     "metadata": {},
     "output_type": "execute_result"
    }
   ],
   "source": [
    "test"
   ],
   "metadata": {
    "collapsed": false
   }
  },
  {
   "cell_type": "code",
   "execution_count": null,
   "outputs": [],
   "source": [],
   "metadata": {
    "collapsed": false
   }
  }
 ],
 "metadata": {
  "kernelspec": {
   "display_name": "Python 3",
   "language": "python",
   "name": "python3"
  },
  "language_info": {
   "codemirror_mode": {
    "name": "ipython",
    "version": 2
   },
   "file_extension": ".py",
   "mimetype": "text/x-python",
   "name": "python",
   "nbconvert_exporter": "python",
   "pygments_lexer": "ipython2",
   "version": "2.7.6"
  }
 },
 "nbformat": 4,
 "nbformat_minor": 0
}
