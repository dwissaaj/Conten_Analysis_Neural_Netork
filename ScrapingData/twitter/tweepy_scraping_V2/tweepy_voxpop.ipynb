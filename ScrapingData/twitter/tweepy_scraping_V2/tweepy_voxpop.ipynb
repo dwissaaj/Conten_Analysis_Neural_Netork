{
 "cells": [
  {
   "cell_type": "code",
   "execution_count": 1,
   "metadata": {
    "collapsed": true
   },
   "outputs": [],
   "source": [
    "import tweepy\n",
    "import config\n",
    "import pandas as pd"
   ]
  },
  {
   "cell_type": "code",
   "execution_count": 2,
   "outputs": [],
   "source": [
    "client = tweepy.Client(bearer_token=config.BEARER_TOKEN)"
   ],
   "metadata": {
    "collapsed": false
   }
  },
  {
   "cell_type": "code",
   "execution_count": 3,
   "outputs": [],
   "source": [
    "textsrt = []\n",
    "textgum = []\n",
    "for tweet in tweepy.Paginator(client.search_recent_tweets,query=\"Hari Minggu lang:ID\",max_results=100,\n",
    "                              start_time = \"2022-09-18T10:00:00Z\",\n",
    "                              end_time=\"2022-09-18T12:00:00Z\",\n",
    "                              tweet_fields=['created_at','geo','lang'],\n",
    "                              user_fields=['username'],\n",
    "                              place_fields=['country']\n",
    "                              ).flatten(limit=20000):\n",
    "   textsrt.append(tweet.text)"
   ],
   "metadata": {
    "collapsed": false
   }
  },
  {
   "cell_type": "code",
   "execution_count": 4,
   "outputs": [],
   "source": [
    "df = pd.DataFrame(textsrt)"
   ],
   "metadata": {
    "collapsed": false
   }
  },
  {
   "cell_type": "code",
   "execution_count": 5,
   "outputs": [],
   "source": [
    "df.to_excel(\"hari minggu 10 12 .xlsx\")"
   ],
   "metadata": {
    "collapsed": false
   }
  },
  {
   "cell_type": "code",
   "execution_count": null,
   "outputs": [],
   "source": [],
   "metadata": {
    "collapsed": false
   }
  }
 ],
 "metadata": {
  "kernelspec": {
   "display_name": "Python 3",
   "language": "python",
   "name": "python3"
  },
  "language_info": {
   "codemirror_mode": {
    "name": "ipython",
    "version": 2
   },
   "file_extension": ".py",
   "mimetype": "text/x-python",
   "name": "python",
   "nbconvert_exporter": "python",
   "pygments_lexer": "ipython2",
   "version": "2.7.6"
  }
 },
 "nbformat": 4,
 "nbformat_minor": 0
}
